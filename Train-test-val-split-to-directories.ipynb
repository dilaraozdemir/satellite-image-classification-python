{
 "cells": [
  {
   "cell_type": "markdown",
   "id": "216bbb8c",
   "metadata": {},
   "source": [
    "# Splitting train val test"
   ]
  },
  {
   "cell_type": "code",
   "execution_count": 1,
   "id": "a9db5fa6",
   "metadata": {},
   "outputs": [],
   "source": []
  },
  {
   "cell_type": "code",
   "execution_count": 6,
   "id": "9f4a6989",
   "metadata": {},
   "outputs": [
    {
     "name": "stdout",
     "output_type": "stream",
     "text": [
      "Total images:  506\n",
      "Training:  404\n",
      "Validation:  102\n"
     ]
    }
   ],
   "source": []
  },
  {
   "cell_type": "code",
   "execution_count": 2,
   "id": "372e648f",
   "metadata": {},
   "outputs": [],
   "source": [
    "import os\n",
    "import numpy as np\n",
    "import shutil\n",
    "\n",
    "# # Creating Train / Val / Test folders (One time use)\n",
    "root_dir = 'D:/Rhaenessa/Github/pytorch-github/Satellite image Classification Dataset-RSI-CB256'\n",
    "\n",
    "# Classes names list\n",
    "yourclasses = ['cloudy','desert','green_area','water']\n",
    "\n",
    "\n",
    "for i in range(len(yourclasses)):\n",
    "    class1 = '/' + yourclasses[i]\n",
    "    os.makedirs(root_dir +'/train' + yourclasses[i])\n",
    "    os.makedirs(root_dir +'/test' + yourclasses[i])\n",
    "    os.makedirs(root_dir +'/val' + yourclasses[i])\n",
    "    \n"
   ]
  },
  {
   "cell_type": "code",
   "execution_count": null,
   "id": "67360f35",
   "metadata": {},
   "outputs": [],
   "source": []
  }
 ],
 "metadata": {
  "kernelspec": {
   "display_name": "Python 3",
   "language": "python",
   "name": "python3"
  },
  "language_info": {
   "codemirror_mode": {
    "name": "ipython",
    "version": 3
   },
   "file_extension": ".py",
   "mimetype": "text/x-python",
   "name": "python",
   "nbconvert_exporter": "python",
   "pygments_lexer": "ipython3",
   "version": "3.6.15"
  }
 },
 "nbformat": 4,
 "nbformat_minor": 5
}
