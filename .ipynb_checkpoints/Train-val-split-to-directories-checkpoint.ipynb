{
 "cells": [
  {
   "cell_type": "markdown",
   "id": "216bbb8c",
   "metadata": {},
   "source": [
    "# Splitting train val"
   ]
  },
  {
   "cell_type": "code",
   "execution_count": 62,
   "id": "7f87c485",
   "metadata": {},
   "outputs": [],
   "source": [
    "import os\n",
    "import numpy as np\n",
    "import shutil\n",
    "\n",
    "\n",
    "root_dir = 'D:/Rhaenessa/Github/pytorch-github/Satellite image Classification Dataset-RSI-CB256'\n",
    "\n",
    "# Classes names list\n",
    "yourclasses = ['cloudy','desert','green_area','water']\n",
    "\n",
    "# Creating Train / Val folders (One time use)\n",
    "for i in range(len(yourclasses)):\n",
    "    class1 = '/' + yourclasses[i]\n",
    "    os.makedirs(root_dir +'/splitted-data/train/' + yourclasses[i])\n",
    "    os.makedirs(root_dir +'/splitted-data/test/' + yourclasses[i])\n",
    "    os.makedirs(root_dir +'/splitted-data/val/' + yourclasses[i])"
   ]
  },
  {
   "cell_type": "code",
   "execution_count": 61,
   "id": "bdaa8756",
   "metadata": {},
   "outputs": [
    {
     "ename": "NameError",
     "evalue": "name 'posCls' is not defined",
     "output_type": "error",
     "traceback": [
      "\u001b[1;31m---------------------------------------------------------------------------\u001b[0m",
      "\u001b[1;31mNameError\u001b[0m                                 Traceback (most recent call last)",
      "\u001b[1;32m<ipython-input-61-6b171985fa32>\u001b[0m in \u001b[0;36m<module>\u001b[1;34m\u001b[0m\n\u001b[0;32m      2\u001b[0m \u001b[1;33m\u001b[0m\u001b[0m\n\u001b[0;32m      3\u001b[0m \u001b[1;31m# Creating partitions of the data after shuffeling\u001b[0m\u001b[1;33m\u001b[0m\u001b[1;33m\u001b[0m\u001b[1;33m\u001b[0m\u001b[0m\n\u001b[1;32m----> 4\u001b[1;33m \u001b[0mcurrentCls\u001b[0m \u001b[1;33m=\u001b[0m \u001b[0mposCls\u001b[0m\u001b[1;33m\u001b[0m\u001b[1;33m\u001b[0m\u001b[0m\n\u001b[0m\u001b[0;32m      5\u001b[0m \u001b[0msrc\u001b[0m \u001b[1;33m=\u001b[0m \u001b[1;34m\"Data2\"\u001b[0m\u001b[1;33m+\u001b[0m\u001b[0mcurrentCls\u001b[0m \u001b[1;31m# Folder to copy images from\u001b[0m\u001b[1;33m\u001b[0m\u001b[1;33m\u001b[0m\u001b[0m\n\u001b[0;32m      6\u001b[0m \u001b[1;33m\u001b[0m\u001b[0m\n",
      "\u001b[1;31mNameError\u001b[0m: name 'posCls' is not defined"
     ]
    }
   ],
   "source": [
    "for k in range(len(yourclasses)):\n",
    "    currentCls = yourclasses[k]\n",
    "    src = root_dir +\"/\"+currentCls # Folder to copy images from\n",
    "    print(\"Class: \",yourclasses[k])\n",
    "    allFileNames = os.listdir(src)\n",
    "    np.random.shuffle(allFileNames)\n",
    "    \n",
    "    # 80% train, 20% validation \n",
    "    train_FileNames, val_FileNames, test_FileNames = np.split(np.array(allFileNames),\n",
    "                                                          [int(len(allFileNames)*0.7), int(len(allFileNames)*0.85)])\n",
    "\n",
    "\n",
    "    train_FileNames = [src+'/'+ name for name in train_FileNames.tolist()]\n",
    "    val_FileNames = [src+'/' + name for name in val_FileNames.tolist()]\n",
    "    test_FileNames = [src+'/' + name for name in test_FileNames.tolist()]\n",
    "\n",
    "    print('Total images: ', len(allFileNames))\n",
    "    print('Training: ', len(train_FileNames))\n",
    "    print('Validation: ', len(val_FileNames))\n",
    "    print('Testing: ', len(test_FileNames))\n",
    "    \n",
    "    # Copy-pasting images\n",
    "    for name in train_FileNames:\n",
    "        shutil.copy(name, root_dir +\"/splitted-data/train\"+currentCls)\n",
    "        \n",
    "    for name in val_FileNames:\n",
    "        shutil.copy(name, root_dir +\"/splitted-data/test\"+currentCls)    \n",
    "\n",
    "    for name in val_FileNames:\n",
    "        shutil.copy(name, root_dir +\"/splitted-data/val\"+currentCls)"
   ]
  },
  {
   "cell_type": "code",
   "execution_count": null,
   "id": "e64abc59",
   "metadata": {},
   "outputs": [],
   "source": []
  }
 ],
 "metadata": {
  "kernelspec": {
   "display_name": "Python 3",
   "language": "python",
   "name": "python3"
  },
  "language_info": {
   "codemirror_mode": {
    "name": "ipython",
    "version": 3
   },
   "file_extension": ".py",
   "mimetype": "text/x-python",
   "name": "python",
   "nbconvert_exporter": "python",
   "pygments_lexer": "ipython3",
   "version": "3.6.15"
  }
 },
 "nbformat": 4,
 "nbformat_minor": 5
}
