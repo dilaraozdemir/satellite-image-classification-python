{
 "cells": [
  {
   "cell_type": "markdown",
   "id": "216bbb8c",
   "metadata": {},
   "source": [
    "# Splitting train val test"
   ]
  },
  {
   "cell_type": "code",
   "execution_count": 6,
   "id": "9f4a6989",
   "metadata": {},
   "outputs": [
    {
     "name": "stdout",
     "output_type": "stream",
     "text": [
      "Total images:  506\n",
      "Training:  404\n",
      "Validation:  102\n"
     ]
    }
   ],
   "source": []
  },
  {
   "cell_type": "code",
   "execution_count": 3,
   "id": "4e8040c7",
   "metadata": {},
   "outputs": [],
   "source": [
    "import os\n",
    "import numpy as np\n",
    "import shutil\n",
    "\n",
    "# # Creating Train / Val / Test folders (One time use)\n",
    "root_dir = 'D:/Rhaenessa/Github/pytorch-github/Satellite image Classification Dataset-RSI-CB256'\n",
    "\n",
    "# Classes names list\n",
    "yourclasses = ['cloudy','desert','green_area','water']\n",
    "\n",
    "\n",
    "for i in range(len(yourclasses)):\n",
    "    class1 = '/' + yourclasses[i]\n",
    "    os.makedirs(root_dir +'/splitted-data/train' + yourclasses[i])\n",
    "    os.makedirs(root_dir +'/splitted-data/val' + yourclasses[i])"
   ]
  },
  {
   "cell_type": "code",
   "execution_count": 48,
   "id": "f73d73ad",
   "metadata": {},
   "outputs": [
    {
     "name": "stdout",
     "output_type": "stream",
     "text": [
      "Class:  cloudy\n",
      "0\n",
      "1050\n",
      "\n"
     ]
    },
    {
     "ename": "AttributeError",
     "evalue": "'list' object has no attribute 'tolist'",
     "output_type": "error",
     "traceback": [
      "\u001b[1;31m---------------------------------------------------------------------------\u001b[0m",
      "\u001b[1;31mAttributeError\u001b[0m                            Traceback (most recent call last)",
      "\u001b[1;32m<ipython-input-48-57a706306e19>\u001b[0m in \u001b[0;36m<module>\u001b[1;34m\u001b[0m\n\u001b[0;32m     25\u001b[0m \u001b[1;33m\u001b[0m\u001b[0m\n\u001b[0;32m     26\u001b[0m \u001b[1;33m\u001b[0m\u001b[0m\n\u001b[1;32m---> 27\u001b[1;33m     \u001b[0mtrain_FileNames\u001b[0m \u001b[1;33m=\u001b[0m \u001b[1;33m[\u001b[0m\u001b[0msrc\u001b[0m\u001b[1;33m+\u001b[0m\u001b[1;34m'/'\u001b[0m\u001b[1;33m+\u001b[0m \u001b[0mname\u001b[0m \u001b[1;32mfor\u001b[0m \u001b[0mname\u001b[0m \u001b[1;32min\u001b[0m \u001b[0mtrain_FileNames\u001b[0m\u001b[1;33m.\u001b[0m\u001b[0mtolist\u001b[0m\u001b[1;33m(\u001b[0m\u001b[1;33m)\u001b[0m\u001b[1;33m]\u001b[0m\u001b[1;33m\u001b[0m\u001b[1;33m\u001b[0m\u001b[0m\n\u001b[0m\u001b[0;32m     28\u001b[0m     \u001b[0mtest_FileNames\u001b[0m \u001b[1;33m=\u001b[0m \u001b[1;33m[\u001b[0m\u001b[0msrc\u001b[0m\u001b[1;33m+\u001b[0m\u001b[1;34m'/'\u001b[0m \u001b[1;33m+\u001b[0m \u001b[0mname\u001b[0m \u001b[1;32mfor\u001b[0m \u001b[0mname\u001b[0m \u001b[1;32min\u001b[0m \u001b[0mtest_FileNames\u001b[0m\u001b[1;33m.\u001b[0m\u001b[0mtolist\u001b[0m\u001b[1;33m(\u001b[0m\u001b[1;33m)\u001b[0m\u001b[1;33m]\u001b[0m\u001b[1;33m\u001b[0m\u001b[1;33m\u001b[0m\u001b[0m\n\u001b[0;32m     29\u001b[0m     \u001b[0mval_FileNames\u001b[0m \u001b[1;33m=\u001b[0m \u001b[1;33m[\u001b[0m\u001b[0msrc\u001b[0m\u001b[1;33m+\u001b[0m\u001b[1;34m'/'\u001b[0m \u001b[1;33m+\u001b[0m \u001b[0mname\u001b[0m \u001b[1;32mfor\u001b[0m \u001b[0mname\u001b[0m \u001b[1;32min\u001b[0m \u001b[0mval_FileNames\u001b[0m\u001b[1;33m.\u001b[0m\u001b[0mtolist\u001b[0m\u001b[1;33m(\u001b[0m\u001b[1;33m)\u001b[0m\u001b[1;33m]\u001b[0m\u001b[1;33m\u001b[0m\u001b[1;33m\u001b[0m\u001b[0m\n",
      "\u001b[1;31mAttributeError\u001b[0m: 'list' object has no attribute 'tolist'"
     ]
    }
   ],
   "source": [
    "# Creating partitions of the data after shuffeling\n",
    "for k in range(len(yourclasses)):\n",
    "    currentCls = yourclasses[k]\n",
    "    src = root_dir +\"/\"+currentCls # Folder to copy images from\n",
    "    print(\"Class: \",yourclasses[k])\n",
    "    allFileNames = os.listdir(src)\n",
    "    np.random.shuffle(allFileNames)\n",
    "    \n",
    "\n",
    "    # train_FileNames, val_FileNames = np.split(np.array(allFileNames),int(len(allFileNames)*0.7))\n",
    "\n",
    "\n",
    "    train_FileNames = [src+'/'+ name for name in train_FileNames.tolist()]\n",
    "    test_FileNames = [src+'/' + name for name in test_FileNames.tolist()]\n",
    "\n",
    "    print('Total images: ', len(allFileNames))\n",
    "    print('Training: ', len(train_FileNames))\n",
    "    print('Test: ', len(test_FileNames))\n",
    "    print('Validation: ', len(val_FileNames))\n",
    "\n"
   ]
  },
  {
   "cell_type": "code",
   "execution_count": null,
   "id": "04bf6c19",
   "metadata": {},
   "outputs": [],
   "source": [
    "    # Copy-pasting images\n",
    "for name in train_FileNames:\n",
    "    shutil.copy(name, \"sar_new_data/data/train\"+currentCls)\n",
    "\n",
    "for name in val_FileNames:\n",
    "    shutil.copy(name, \"sar_new_data/data/val\"+currentCls)"
   ]
  }
 ],
 "metadata": {
  "kernelspec": {
   "display_name": "Python 3",
   "language": "python",
   "name": "python3"
  },
  "language_info": {
   "codemirror_mode": {
    "name": "ipython",
    "version": 3
   },
   "file_extension": ".py",
   "mimetype": "text/x-python",
   "name": "python",
   "nbconvert_exporter": "python",
   "pygments_lexer": "ipython3",
   "version": "3.6.15"
  }
 },
 "nbformat": 4,
 "nbformat_minor": 5
}
